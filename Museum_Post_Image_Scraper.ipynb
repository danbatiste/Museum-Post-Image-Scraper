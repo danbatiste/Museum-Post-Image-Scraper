{
 "cells": [
  {
   "cell_type": "code",
   "execution_count": 55,
   "id": "6e528875",
   "metadata": {},
   "outputs": [],
   "source": [
    "from lxml import html\n",
    "import requests\n",
    "import shutil\n",
    "import os\n",
    "\n",
    "\n",
    "page1_url = \"https://web.archive.org/web/20160310043011/http://tahoemuseum.org/\"\n",
    "page2_url = \"https://web.archive.org/web/20160320132803/http://tahoemuseum.org/page/2/\""
   ]
  },
  {
   "cell_type": "code",
   "execution_count": 56,
   "id": "cfc020b6",
   "metadata": {},
   "outputs": [],
   "source": [
    "url = page1_url\n",
    "page = requests.get(url)\n",
    "xml_tree = html.fromstring(page.content)\n",
    "\n",
    "\n",
    "# Xpaths\n",
    "def get_post_from_content(xml_tree, post_num):\n",
    "    post = post_num\n",
    "    post_xpath = f'//*[@id=\"content\"]/article[{post}]'\n",
    "    title_xpath = f'{post_xpath}/div/header/div/div/h2/a'\n",
    "    image_xpath = f'{post_xpath}/div/div/a/img'\n",
    "\n",
    "    title = xml_tree.xpath(title_xpath)[0].attrib['title']\n",
    "    image = xml_tree.xpath(image_xpath)[0]\n",
    "    image_url = image.attrib['src']\n",
    "    \n",
    "    return title, image_url\n",
    "\n",
    "\n",
    "all_posts_xpath = f'//*[@id=\"content\"]/article'\n",
    "all_posts = xml_tree.xpath(all_posts_xpath)\n",
    "post_count = len(all_posts)\n",
    "\n",
    "for post_num in range(1, post_count+1):\n",
    "    title, image_url = get_post_from_content(xml_tree, post_num)\n",
    "    dirname = make_directory(title)\n",
    "    download_image(image_url, dirname)"
   ]
  },
  {
   "cell_type": "code",
   "execution_count": 50,
   "id": "355e2cba",
   "metadata": {},
   "outputs": [],
   "source": [
    "def download_image(image_url, folder_name):\n",
    "    image_extension = '.' + image_url.split('.')[-1]\n",
    "    filename = image_url.split('/')[-1]\n",
    "    response = requests.get(image_url, stream=True)\n",
    "    with open(f'./{folder_name}/{filename}','wb') as out_file:\n",
    "        shutil.copyfileobj(response.raw, out_file)\n",
    "    del response\n",
    "\n",
    "def make_directory(title):\n",
    "    filtered_title = \"\".join(list(filter(\n",
    "        lambda c: c.isalpha() or c==' ', title)))\n",
    "    filtered_title = filtered_title.replace(' ','_')\n",
    "    try:\n",
    "        os.mkdir(filtered_title)\n",
    "    except FileExistsError:\n",
    "        pass\n",
    "    return filtered_title"
   ]
  },
  {
   "cell_type": "code",
   "execution_count": 53,
   "id": "2cd97903",
   "metadata": {},
   "outputs": [],
   "source": [
    "for post_num in [1]:\n",
    "    title, image_url = get_post_from_content(xml_tree, post_num)\n",
    "    dirname = make_directory(title)\n",
    "    download_image(image_url, dirname)"
   ]
  },
  {
   "cell_type": "code",
   "execution_count": null,
   "id": "ea191f43",
   "metadata": {},
   "outputs": [],
   "source": []
  },
  {
   "cell_type": "code",
   "execution_count": null,
   "id": "e2848e23",
   "metadata": {},
   "outputs": [],
   "source": []
  }
 ],
 "metadata": {
  "kernelspec": {
   "display_name": "Python 3",
   "language": "python",
   "name": "python3"
  },
  "language_info": {
   "codemirror_mode": {
    "name": "ipython",
    "version": 3
   },
   "file_extension": ".py",
   "mimetype": "text/x-python",
   "name": "python",
   "nbconvert_exporter": "python",
   "pygments_lexer": "ipython3",
   "version": "3.7.9"
  }
 },
 "nbformat": 4,
 "nbformat_minor": 5
}
